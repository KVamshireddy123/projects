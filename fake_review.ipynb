{
 "cells": [
  {
   "cell_type": "code",
   "execution_count": null,
   "metadata": {},
   "outputs": [
    {
     "name": "stderr",
     "output_type": "stream",
     "text": [
      "[nltk_data] Downloading package stopwords to\n",
      "[nltk_data]     C:\\Users\\chitt\\AppData\\Roaming\\nltk_data...\n",
      "[nltk_data]   Unzipping corpora\\stopwords.zip.\n"
     ]
    },
    {
     "name": "stdout",
     "output_type": "stream",
     "text": [
      "Accuracy: 0.8761651131824234\n",
      "\n",
      "Classification Report:\n",
      "               precision    recall  f1-score   support\n",
      "\n",
      "           0       0.90      0.81      0.85       326\n",
      "           1       0.86      0.93      0.89       425\n",
      "\n",
      "    accuracy                           0.88       751\n",
      "   macro avg       0.88      0.87      0.87       751\n",
      "weighted avg       0.88      0.88      0.88       751\n",
      "\n"
     ]
    }
   ],
   "source": [
    "import pandas as pd\n",
    "from sklearn.model_selection import train_test_split\n",
    "from sklearn.feature_extraction.text import TfidfVectorizer\n",
    "from sklearn.naive_bayes import MultinomialNB\n",
    "from sklearn.metrics import classification_report, accuracy_score\n",
    "from nltk.corpus import stopwords\n",
    "import nltk\n",
    "\n",
    "# Ensure NLTK stopwords are downloaded\n",
    "nltk.download('stopwords')\n",
    "\n",
    "# Load the dataset\n",
    "file_path = \"review-details.csv\"  # Adjust the file path if necessary\n",
    "df = pd.read_csv(file_path, encoding='ISO-8859-1')  # Use correct encoding\n",
    "\n",
    "# Use the 'review_text' column as the input text\n",
    "X = df['review_text'].fillna('')  # Replace NaN with empty string if there are missing values\n",
    "\n",
    "# For this example, we'll create labels based on 'verified_purchase' column (1 for verified, 0 for unverified)\n",
    "# This can be changed to a different column for a different labeling mechanism\n",
    "y = df['verified_purchase'].astype(int)  # Convert to 1 or 0 for classification\n",
    "\n",
    "# Split the data into training and testing sets\n",
    "X_train, X_test, y_train, y_test = train_test_split(X, y, test_size=0.3, random_state=42)\n",
    "\n",
    "# Initialize the TfidfVectorizer and fit it on the training data\n",
    "vectorizer = TfidfVectorizer(stop_words=stopwords.words('english'))\n",
    "X_train_tfidf = vectorizer.fit_transform(X_train)\n",
    "\n",
    "# Train a Multinomial Naive Bayes model\n",
    "model = MultinomialNB()\n",
    "model.fit(X_train_tfidf, y_train)\n",
    "\n",
    "# Transform the test data and make predictions\n",
    "X_test_tfidf = vectorizer.transform(X_test)\n",
    "y_pred = model.predict(X_test_tfidf)\n",
    "\n",
    "# Evaluate the model's performance\n",
    "print(\"Accuracy:\", accuracy_score(y_test, y_pred))\n",
    "print(\"\\nClassification Report:\\n\", classification_report(y_test, y_pred))\n",
    "\n",
    "# Function to predict whether a review is fake or not\n",
    "def predict_review(input_text):\n",
    "    # Transform the input text using the trained TfidfVectorizer\n",
    "    input_tfidf = vectorizer.transform([input_text])\n",
    "    \n",
    "    # Predict the label using the trained model (1 for verified, 0 for unverified)\n",
    "    prediction = model.predict(input_tfidf)\n",
    "    \n",
    "    # Return the prediction (0 = fake, 1 = verified)\n",
    "    return \"Verified Purchase\" if prediction[0] == 1 else \"Fake Review\"\n",
    "\n",
    "# Get input from the user\n",
    "user_input = input(\"Enter the review text: \")\n",
    "\n",
    "# Make the prediction\n",
    "result = predict_review(user_input)\n",
    "\n",
    "# Output the result\n",
    "print(f\"The review is: {result}\")"
   ]
  }
 ],
 "metadata": {
  "kernelspec": {
   "display_name": "Python 3",
   "language": "python",
   "name": "python3"
  },
  "language_info": {
   "codemirror_mode": {
    "name": "ipython",
    "version": 3
   },
   "file_extension": ".py",
   "mimetype": "text/x-python",
   "name": "python",
   "nbconvert_exporter": "python",
   "pygments_lexer": "ipython3",
   "version": "3.7.0"
  }
 },
 "nbformat": 4,
 "nbformat_minor": 2
}
